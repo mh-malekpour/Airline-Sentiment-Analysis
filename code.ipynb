{
 "cells": [
  {
   "cell_type": "markdown",
   "metadata": {},
   "source": [
    "# تحلیل احساسات جریان داده های میکروبلاگ\n",
    "## Mohammad Hossein malekpour | 9613425\n",
    "_____________________________________________________________________________________\n"
   ]
  },
  {
   "cell_type": "markdown",
   "metadata": {},
   "source": [
    "## Import Necessary Libraries"
   ]
  },
  {
   "cell_type": "code",
   "execution_count": 1,
   "metadata": {},
   "outputs": [],
   "source": [
    "import pandas as pd\n",
    "from sklearn import metrics\n",
    "from sklearn.model_selection import train_test_split\n",
    "from sklearn.feature_extraction.text import CountVectorizer\n",
    "from sklearn.svm import LinearSVC\n",
    "from sklearn.naive_bayes import MultinomialNB\n",
    "from sklearn.neighbors import KNeighborsClassifier"
   ]
  },
  {
   "cell_type": "markdown",
   "metadata": {},
   "source": [
    "## Load Data"
   ]
  },
  {
   "cell_type": "code",
   "execution_count": 2,
   "metadata": {},
   "outputs": [],
   "source": [
    "train_data = pd.read_csv(\"airline-train.csv\")\n",
    "dev_data = pd.read_csv(\"airline-dev.csv\")\n",
    "test_data = pd.read_csv(\"airline-test.csv\")"
   ]
  },
  {
   "cell_type": "code",
   "execution_count": 3,
   "metadata": {},
   "outputs": [],
   "source": [
    "data = pd.concat([train_data, dev_data, test_data])"
   ]
  },
  {
   "cell_type": "markdown",
   "metadata": {},
   "source": [
    "## Pre-Proceess Data"
   ]
  },
  {
   "cell_type": "markdown",
   "metadata": {},
   "source": [
    "Using CountVectorizer to convert text into tokens/features.\n",
    "- A built-in stop word list for English is used.\n",
    "- Convert all characters to lowercase before tokenizing.\n",
    "- by regex select tokens of 3 or more alphanumeric characters (punctuation is completely ignored and always treated as a token separator).\n",
    "- max_df: ignore terms that have a document frequency strictly higher than the given threshold (0.80 represents a proportion of documents).\n",
    "- min_df: ignore terms that have a document frequency strictly lower than the given threshold."
   ]
  },
  {
   "cell_type": "code",
   "execution_count": 4,
   "metadata": {},
   "outputs": [],
   "source": [
    "vect = CountVectorizer(stop_words='english', lowercase = True, token_pattern = r'(?u)\\b\\w\\w\\w+\\b', ngram_range = (1,1), max_df = .80, min_df = 4)"
   ]
  },
  {
   "cell_type": "markdown",
   "metadata": {},
   "source": [
    "<br>Splitted training test with test size of 20%"
   ]
  },
  {
   "cell_type": "code",
   "execution_count": 5,
   "metadata": {},
   "outputs": [],
   "source": [
    "X = data.text\n",
    "y = data.airline_sentiment\n",
    "y = y.replace(['positive','neutral', 'negative'],[1, 0, -1])\n",
    "X_train, X_test, y_train, y_test = train_test_split(X,y,random_state=1, test_size= 0.2)"
   ]
  },
  {
   "cell_type": "markdown",
   "metadata": {},
   "source": [
    "<br> Using training data to transform text into counts of features for each tweet:"
   ]
  },
  {
   "cell_type": "code",
   "execution_count": 6,
   "metadata": {},
   "outputs": [],
   "source": [
    "vect.fit(X_train)\n",
    "X_train_dtm = vect.transform(X_train) \n",
    "X_test_dtm = vect.transform(X_test)"
   ]
  },
  {
   "cell_type": "markdown",
   "metadata": {},
   "source": [
    "## Classifier Comparison\n",
    "Used the following models to train on training data.\n",
    "- Naive Bayes\n",
    "- SVM (Support Vector Machine)\n",
    "- KNN (K Nearest Neighbors)"
   ]
  },
  {
   "cell_type": "markdown",
   "metadata": {},
   "source": [
    "and tested models on test data and calculated accuracy of predictions."
   ]
  },
  {
   "cell_type": "markdown",
   "metadata": {},
   "source": [
    "Accuracy using Naive Bayes Model:"
   ]
  },
  {
   "cell_type": "code",
   "execution_count": 7,
   "metadata": {},
   "outputs": [
    {
     "name": "stdout",
     "output_type": "stream",
     "text": [
      "\n",
      "Naive Bayes\n",
      "Accuracy Score: 77.52732240437157%\n",
      "Confusion Matrix: \n",
      "[[1653  150   51]\n",
      " [ 255  299   58]\n",
      " [  94   50  318]]\n"
     ]
    }
   ],
   "source": [
    "NB = MultinomialNB()\n",
    "NB.fit(X_train_dtm, y_train)\n",
    "y_pred = NB.predict(X_test_dtm)\n",
    "print('\\nNaive Bayes')\n",
    "print('Accuracy Score: ',metrics.accuracy_score(y_test,y_pred)*100,'%',sep='')\n",
    "print('Confusion Matrix: ',metrics.confusion_matrix(y_test,y_pred), sep = '\\n')"
   ]
  },
  {
   "cell_type": "markdown",
   "metadata": {},
   "source": [
    "<br>Accuracy using SVM Model:"
   ]
  },
  {
   "cell_type": "code",
   "execution_count": 8,
   "metadata": {},
   "outputs": [
    {
     "name": "stdout",
     "output_type": "stream",
     "text": [
      "\n",
      "Support Vector Machine\n",
      "Accuracy Score: 77.04918032786885%\n",
      "Confusion Matrix: \n",
      "[[1574  210   70]\n",
      " [ 179  361   72]\n",
      " [  82   59  321]]\n"
     ]
    }
   ],
   "source": [
    "SVM = LinearSVC()\n",
    "SVM.fit(X_train_dtm, y_train)\n",
    "y_pred = SVM.predict(X_test_dtm)\n",
    "print('\\nSupport Vector Machine')\n",
    "print('Accuracy Score: ',metrics.accuracy_score(y_test,y_pred)*100,'%',sep='')\n",
    "print('Confusion Matrix: ',metrics.confusion_matrix(y_test,y_pred), sep = '\\n')"
   ]
  },
  {
   "cell_type": "markdown",
   "metadata": {},
   "source": [
    "<br>Accuracy using KNN Model:"
   ]
  },
  {
   "cell_type": "code",
   "execution_count": 9,
   "metadata": {},
   "outputs": [
    {
     "name": "stdout",
     "output_type": "stream",
     "text": [
      "\n",
      "K Nearest Neighbors (NN = 3)\n",
      "Accuracy Score: 52.424863387978135%\n",
      "Confusion Matrix: \n",
      "[[895 875  84]\n",
      " [144 419  49]\n",
      " [ 89 152 221]]\n"
     ]
    }
   ],
   "source": [
    "KNN = KNeighborsClassifier(n_neighbors = 3)\n",
    "KNN.fit(X_train_dtm, y_train)\n",
    "y_pred = KNN.predict(X_test_dtm)\n",
    "print('\\nK Nearest Neighbors (NN = 3)')\n",
    "print('Accuracy Score: ',metrics.accuracy_score(y_test,y_pred)*100,'%',sep='')\n",
    "print('Confusion Matrix: ',metrics.confusion_matrix(y_test,y_pred), sep = '\\n')"
   ]
  },
  {
   "cell_type": "markdown",
   "metadata": {},
   "source": [
    "## Naive Bayes Analysis"
   ]
  },
  {
   "cell_type": "code",
   "execution_count": 10,
   "metadata": {},
   "outputs": [
    {
     "name": "stdout",
     "output_type": "stream",
     "text": [
      "\n",
      "Analysis\n",
      "No. of tokens:  2809\n",
      "No. of positive tokens:  1418\n",
      "No. of negative tokens:  1391\n"
     ]
    }
   ],
   "source": [
    "tokens_words = vect.get_feature_names()\n",
    "counts = NB.feature_count_\n",
    "df_table = {'Token':tokens_words,'Positive': counts[1,:], 'Neutral': counts[0,:], 'Negative': counts[-1,:]}\n",
    "tokens = pd.DataFrame(df_table, columns= ['Token','Positive','Neutral','Negative'])\n",
    "positives = len(tokens[tokens['Positive']>tokens['Negative']])\n",
    "print('\\nAnalysis')\n",
    "print('No. of tokens: ',len(tokens_words))\n",
    "print('No. of positive tokens: ',positives)\n",
    "print('No. of negative tokens: ',len(tokens_words)-positives)"
   ]
  },
  {
   "cell_type": "markdown",
   "metadata": {},
   "source": [
    "## Text summary of the precision, recall, F1 score for each class"
   ]
  },
  {
   "cell_type": "code",
   "execution_count": 11,
   "metadata": {},
   "outputs": [
    {
     "name": "stdout",
     "output_type": "stream",
     "text": [
      "              precision    recall  f1-score   support\n",
      "\n",
      "          -1       0.79      0.48      0.60      1854\n",
      "           0       0.29      0.68      0.41       612\n",
      "           1       0.62      0.48      0.54       462\n",
      "\n",
      "    accuracy                           0.52      2928\n",
      "   macro avg       0.57      0.55      0.52      2928\n",
      "weighted avg       0.66      0.52      0.55      2928\n",
      "\n"
     ]
    }
   ],
   "source": [
    "from sklearn.metrics import classification_report\n",
    "print(classification_report(y_test, y_pred))"
   ]
  },
  {
   "cell_type": "markdown",
   "metadata": {},
   "source": [
    "## Test a tweet on the best performing model  (Naive Bayes)"
   ]
  },
  {
   "cell_type": "markdown",
   "metadata": {},
   "source": [
    "Took custom tweet inputs and predicted Positive/Negative/Neutral tweet."
   ]
  },
  {
   "cell_type": "code",
   "execution_count": 12,
   "metadata": {},
   "outputs": [
    {
     "name": "stdout",
     "output_type": "stream",
     "text": [
      "\n",
      "Test a custom review message\n",
      "Enter review to be analysed:  "
     ]
    },
    {
     "name": "stdin",
     "output_type": "stream",
     "text": [
      " I really appreciate the details of the travel. It was an awesome experience.\n"
     ]
    },
    {
     "name": "stdout",
     "output_type": "stream",
     "text": [
      "The review is predicted Positive\n"
     ]
    }
   ],
   "source": [
    "trainingVector = CountVectorizer(stop_words='english', lowercase = True, token_pattern = r'(?u)\\b\\w\\w\\w+\\b', ngram_range = (1,1), max_df = .80, min_df = 4)\n",
    "trainingVector.fit(X)\n",
    "X_dtm = trainingVector.transform(X)\n",
    "NB = MultinomialNB()\n",
    "NB.fit(X_dtm, y)\n",
    "#Input tweet\n",
    "print('\\nTest a custom review message')\n",
    "print('Enter review to be analysed: ', end=\" \")\n",
    "test = []\n",
    "test.append(input())\n",
    "test_dtm = trainingVector.transform(test)\n",
    "predLabel = NB.predict(test_dtm)\n",
    "tags = ['Negative','Positive']\n",
    "#Display Output\n",
    "print('The review is predicted',tags[predLabel[0]])"
   ]
  }
 ],
 "metadata": {
  "kernelspec": {
   "display_name": "Python 3",
   "language": "python",
   "name": "python3"
  },
  "language_info": {
   "codemirror_mode": {
    "name": "ipython",
    "version": 3
   },
   "file_extension": ".py",
   "mimetype": "text/x-python",
   "name": "python",
   "nbconvert_exporter": "python",
   "pygments_lexer": "ipython3",
   "version": "3.7.6"
  }
 },
 "nbformat": 4,
 "nbformat_minor": 4
}
